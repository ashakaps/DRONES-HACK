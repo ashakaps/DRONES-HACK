{
 "cells": [
  {
   "cell_type": "code",
   "execution_count": null,
   "id": "b779970f",
   "metadata": {},
   "outputs": [],
   "source": [
    "import pandas as pd"
   ]
  },
  {
   "cell_type": "markdown",
   "id": "1bc2006a",
   "metadata": {},
   "source": [
    "## Моя (Юра) часть "
   ]
  },
  {
   "cell_type": "code",
   "execution_count": 101,
   "id": "6fc54f54",
   "metadata": {},
   "outputs": [],
   "source": [
    "df_2024_per_city = pd.read_excel(\"../data/2024_v2.xlsx\", sheet_name=None)\n",
    "df_2025_per_city = pd.read_excel(\"../data/2025_v2.xlsx\", sheet_name=None)\n"
   ]
  },
  {
   "cell_type": "markdown",
   "id": "a14d9b48",
   "metadata": {},
   "source": [
    "concat всей пригодной даты из 24"
   ]
  },
  {
   "cell_type": "code",
   "execution_count": 102,
   "id": "8083abbd",
   "metadata": {},
   "outputs": [],
   "source": [
    "def add_center(data, district_name):\n",
    "    return pd.concat(\n",
    "        [pd.DataFrame([district_name] * len(data), columns=[\"center\"]),\n",
    "        data],\n",
    "        axis = 1\n",
    "    )\n",
    "\n",
    "df_combined = add_center(df_2024_per_city[\"Москва\"], \"Москва\")\n",
    "\n",
    "for key in list(df_2024_per_city.keys())[1:]:\n",
    "    df_combined = pd.concat(\n",
    "        [df_combined, \n",
    "         add_center(df_2024_per_city[key], key)], \n",
    "         ignore_index=True\n",
    "    )\n",
    "\n",
    "df_combined.tail()\n",
    "\n",
    "df_2024 = df_combined.copy()"
   ]
  },
  {
   "cell_type": "markdown",
   "id": "50c18b3b",
   "metadata": {},
   "source": [
    "concat всей пригодной даты из 25"
   ]
  },
  {
   "cell_type": "code",
   "execution_count": 103,
   "id": "f19fcd68",
   "metadata": {},
   "outputs": [
    {
     "data": {
      "text/html": [
       "<div>\n",
       "<style scoped>\n",
       "    .dataframe tbody tr th:only-of-type {\n",
       "        vertical-align: middle;\n",
       "    }\n",
       "\n",
       "    .dataframe tbody tr th {\n",
       "        vertical-align: top;\n",
       "    }\n",
       "\n",
       "    .dataframe thead th {\n",
       "        text-align: right;\n",
       "    }\n",
       "</style>\n",
       "<table border=\"1\" class=\"dataframe\">\n",
       "  <thead>\n",
       "    <tr style=\"text-align: right;\">\n",
       "      <th></th>\n",
       "      <th>center</th>\n",
       "      <th>SHR</th>\n",
       "      <th>DEP</th>\n",
       "      <th>ARR</th>\n",
       "    </tr>\n",
       "  </thead>\n",
       "  <tbody>\n",
       "    <tr>\n",
       "      <th>128839</th>\n",
       "      <td>Иркутск</td>\n",
       "      <td>(SHR-ZZZZZ\\n-ZZZZ0200\\n-M0047/M0057 /ZONA R1,2...</td>\n",
       "      <td>-TITLE IDEP\\n-SID 7772706377\\n-ADD 250702\\n-AT...</td>\n",
       "      <td>-TITLE IARR\\n-SID 7772706377\\n-ADA 250702\\n-AT...</td>\n",
       "    </tr>\n",
       "    <tr>\n",
       "      <th>128840</th>\n",
       "      <td>Иркутск</td>\n",
       "      <td>(SHR-0808D59\\n-ZZZZ0400\\n-M0080/M0228 /ZONA MR...</td>\n",
       "      <td>-TITLE IDEP\\n-SID 7772730681\\n-ADD 250713\\n-AT...</td>\n",
       "      <td>-TITLE IARR\\n-SID 7772730681\\n-ADA 250713\\n-AT...</td>\n",
       "    </tr>\n",
       "    <tr>\n",
       "      <th>128841</th>\n",
       "      <td>Иркутск</td>\n",
       "      <td>(SHR-W086773\\n-ZZZZ0100\\n-S0082/S0102 /ZONA MR...</td>\n",
       "      <td>-TITLE IDEP\\n-SID 7772749748\\n-ADD 250715\\n-AT...</td>\n",
       "      <td>-TITLE IARR\\n-SID 7772749748\\n-ADA 250715\\n-AT...</td>\n",
       "    </tr>\n",
       "    <tr>\n",
       "      <th>128842</th>\n",
       "      <td>Иркутск</td>\n",
       "      <td>(SHR-RF16257\\n-ZZZZ0400\\n-M0050/M0080 /ZONA MR...</td>\n",
       "      <td>-TITLE IDEP\\n-SID 7772750876\\n-ADD 250716\\n-AT...</td>\n",
       "      <td>-TITLE IARR\\n-SID 7772750876\\n-ADA 250716\\n-AT...</td>\n",
       "    </tr>\n",
       "    <tr>\n",
       "      <th>128843</th>\n",
       "      <td>Иркутск</td>\n",
       "      <td>(SHR-ZZZZZ\\n-ZZZZ0300\\n-M0042/M0052 /ZONA R5,5...</td>\n",
       "      <td>-TITLE IDEP\\n-SID 7772754829\\n-ADD 250716\\n-AT...</td>\n",
       "      <td>NaN</td>\n",
       "    </tr>\n",
       "  </tbody>\n",
       "</table>\n",
       "</div>"
      ],
      "text/plain": [
       "         center                                                SHR  \\\n",
       "128839  Иркутск  (SHR-ZZZZZ\\n-ZZZZ0200\\n-M0047/M0057 /ZONA R1,2...   \n",
       "128840  Иркутск  (SHR-0808D59\\n-ZZZZ0400\\n-M0080/M0228 /ZONA MR...   \n",
       "128841  Иркутск  (SHR-W086773\\n-ZZZZ0100\\n-S0082/S0102 /ZONA MR...   \n",
       "128842  Иркутск  (SHR-RF16257\\n-ZZZZ0400\\n-M0050/M0080 /ZONA MR...   \n",
       "128843  Иркутск  (SHR-ZZZZZ\\n-ZZZZ0300\\n-M0042/M0052 /ZONA R5,5...   \n",
       "\n",
       "                                                      DEP  \\\n",
       "128839  -TITLE IDEP\\n-SID 7772706377\\n-ADD 250702\\n-AT...   \n",
       "128840  -TITLE IDEP\\n-SID 7772730681\\n-ADD 250713\\n-AT...   \n",
       "128841  -TITLE IDEP\\n-SID 7772749748\\n-ADD 250715\\n-AT...   \n",
       "128842  -TITLE IDEP\\n-SID 7772750876\\n-ADD 250716\\n-AT...   \n",
       "128843  -TITLE IDEP\\n-SID 7772754829\\n-ADD 250716\\n-AT...   \n",
       "\n",
       "                                                      ARR  \n",
       "128839  -TITLE IARR\\n-SID 7772706377\\n-ADA 250702\\n-AT...  \n",
       "128840  -TITLE IARR\\n-SID 7772730681\\n-ADA 250713\\n-AT...  \n",
       "128841  -TITLE IARR\\n-SID 7772749748\\n-ADA 250715\\n-AT...  \n",
       "128842  -TITLE IARR\\n-SID 7772750876\\n-ADA 250716\\n-AT...  \n",
       "128843                                                NaN  "
      ]
     },
     "execution_count": 103,
     "metadata": {},
     "output_type": "execute_result"
    }
   ],
   "source": [
    "df_2025 = pd.DataFrame()\n",
    "\n",
    "for key in df_2025_per_city.keys():\n",
    "    df_2025 = pd.concat(\n",
    "        [df_2025, \n",
    "         add_center(df_2025_per_city[key], key)], \n",
    "         ignore_index=True\n",
    "    )\n",
    "\n",
    "    df_combined = pd.concat(\n",
    "        [df_combined, \n",
    "         add_center(df_2025_per_city[key], key)], \n",
    "         ignore_index=True\n",
    "    )\n",
    "\n",
    "df_combined.tail()"
   ]
  },
  {
   "cell_type": "code",
   "execution_count": 104,
   "id": "c479ab6b",
   "metadata": {},
   "outputs": [
    {
     "data": {
      "text/html": [
       "<div>\n",
       "<style scoped>\n",
       "    .dataframe tbody tr th:only-of-type {\n",
       "        vertical-align: middle;\n",
       "    }\n",
       "\n",
       "    .dataframe tbody tr th {\n",
       "        vertical-align: top;\n",
       "    }\n",
       "\n",
       "    .dataframe thead th {\n",
       "        text-align: right;\n",
       "    }\n",
       "</style>\n",
       "<table border=\"1\" class=\"dataframe\">\n",
       "  <thead>\n",
       "    <tr style=\"text-align: right;\">\n",
       "      <th></th>\n",
       "      <th>center</th>\n",
       "      <th>SHR</th>\n",
       "      <th>DEP</th>\n",
       "      <th>ARR</th>\n",
       "    </tr>\n",
       "  </thead>\n",
       "  <tbody>\n",
       "    <tr>\n",
       "      <th>0</th>\n",
       "      <td>Якутск</td>\n",
       "      <td>(SHR-ZZZZZ\\n-ZZZZ0000\\n-M0048/M0088 /ZONA 6138...</td>\n",
       "      <td>-TITLE IDEP\\n-SID 7772282638\\n-ADD 250114\\n-AT...</td>\n",
       "      <td>-TITLE IARR\\n-SID 7772282638\\n-ADA 250114\\n-AT...</td>\n",
       "    </tr>\n",
       "    <tr>\n",
       "      <th>1</th>\n",
       "      <td>Якутск</td>\n",
       "      <td>(SHR-ZZZZZ\\n-ZZZZ0000\\n-M0048/M0088 /ZONA 6138...</td>\n",
       "      <td>-TITLE IDEP\\n-SID 7772290727\\n-ADD 250120\\n-AT...</td>\n",
       "      <td>-TITLE IARR\\n-SID 7772290727\\n-ADA 250120\\n-AT...</td>\n",
       "    </tr>\n",
       "    <tr>\n",
       "      <th>2</th>\n",
       "      <td>Якутск</td>\n",
       "      <td>(SHR-ZZZZZ\\n-ZZZZ0000\\n-M0115/M0165 /ZONA 5544...</td>\n",
       "      <td>-TITLE IDEP\\n-SID 7772299367\\n-ADD 250124\\n-AT...</td>\n",
       "      <td>-TITLE IARR\\n-SID 7772299367\\n-ADA 250124\\n-AT...</td>\n",
       "    </tr>\n",
       "    <tr>\n",
       "      <th>3</th>\n",
       "      <td>Якутск</td>\n",
       "      <td>(SHR-ZZZZZ\\n-ZZZZ0000\\n-M0048/M0088 /ZONA 6138...</td>\n",
       "      <td>-TITLE IDEP\\n-SID 7772300717\\n-ADD 250127\\n-AT...</td>\n",
       "      <td>-TITLE IARR\\n-SID 7772300717\\n-ADA 250127\\n-AT...</td>\n",
       "    </tr>\n",
       "    <tr>\n",
       "      <th>4</th>\n",
       "      <td>Якутск</td>\n",
       "      <td>(SHR-ZZZZZ\\n-ZZZZ0100\\n-M0003/M0080 /ZONA 6232...</td>\n",
       "      <td>-TITLE IDEP\\n-SID 7772305290\\n-ADD 250126\\n-AT...</td>\n",
       "      <td>-TITLE IARR\\n-SID 7772305290\\n-ADA 250126\\n-AT...</td>\n",
       "    </tr>\n",
       "    <tr>\n",
       "      <th>...</th>\n",
       "      <td>...</td>\n",
       "      <td>...</td>\n",
       "      <td>...</td>\n",
       "      <td>...</td>\n",
       "    </tr>\n",
       "    <tr>\n",
       "      <th>76897</th>\n",
       "      <td>Иркутск</td>\n",
       "      <td>(SHR-ZZZZZ\\n-ZZZZ0200\\n-M0047/M0057 /ZONA R1,2...</td>\n",
       "      <td>-TITLE IDEP\\n-SID 7772706377\\n-ADD 250702\\n-AT...</td>\n",
       "      <td>-TITLE IARR\\n-SID 7772706377\\n-ADA 250702\\n-AT...</td>\n",
       "    </tr>\n",
       "    <tr>\n",
       "      <th>76898</th>\n",
       "      <td>Иркутск</td>\n",
       "      <td>(SHR-0808D59\\n-ZZZZ0400\\n-M0080/M0228 /ZONA MR...</td>\n",
       "      <td>-TITLE IDEP\\n-SID 7772730681\\n-ADD 250713\\n-AT...</td>\n",
       "      <td>-TITLE IARR\\n-SID 7772730681\\n-ADA 250713\\n-AT...</td>\n",
       "    </tr>\n",
       "    <tr>\n",
       "      <th>76899</th>\n",
       "      <td>Иркутск</td>\n",
       "      <td>(SHR-W086773\\n-ZZZZ0100\\n-S0082/S0102 /ZONA MR...</td>\n",
       "      <td>-TITLE IDEP\\n-SID 7772749748\\n-ADD 250715\\n-AT...</td>\n",
       "      <td>-TITLE IARR\\n-SID 7772749748\\n-ADA 250715\\n-AT...</td>\n",
       "    </tr>\n",
       "    <tr>\n",
       "      <th>76900</th>\n",
       "      <td>Иркутск</td>\n",
       "      <td>(SHR-RF16257\\n-ZZZZ0400\\n-M0050/M0080 /ZONA MR...</td>\n",
       "      <td>-TITLE IDEP\\n-SID 7772750876\\n-ADD 250716\\n-AT...</td>\n",
       "      <td>-TITLE IARR\\n-SID 7772750876\\n-ADA 250716\\n-AT...</td>\n",
       "    </tr>\n",
       "    <tr>\n",
       "      <th>76901</th>\n",
       "      <td>Иркутск</td>\n",
       "      <td>(SHR-ZZZZZ\\n-ZZZZ0300\\n-M0042/M0052 /ZONA R5,5...</td>\n",
       "      <td>-TITLE IDEP\\n-SID 7772754829\\n-ADD 250716\\n-AT...</td>\n",
       "      <td>NaN</td>\n",
       "    </tr>\n",
       "  </tbody>\n",
       "</table>\n",
       "<p>76902 rows × 4 columns</p>\n",
       "</div>"
      ],
      "text/plain": [
       "        center                                                SHR  \\\n",
       "0       Якутск  (SHR-ZZZZZ\\n-ZZZZ0000\\n-M0048/M0088 /ZONA 6138...   \n",
       "1       Якутск  (SHR-ZZZZZ\\n-ZZZZ0000\\n-M0048/M0088 /ZONA 6138...   \n",
       "2       Якутск  (SHR-ZZZZZ\\n-ZZZZ0000\\n-M0115/M0165 /ZONA 5544...   \n",
       "3       Якутск  (SHR-ZZZZZ\\n-ZZZZ0000\\n-M0048/M0088 /ZONA 6138...   \n",
       "4       Якутск  (SHR-ZZZZZ\\n-ZZZZ0100\\n-M0003/M0080 /ZONA 6232...   \n",
       "...        ...                                                ...   \n",
       "76897  Иркутск  (SHR-ZZZZZ\\n-ZZZZ0200\\n-M0047/M0057 /ZONA R1,2...   \n",
       "76898  Иркутск  (SHR-0808D59\\n-ZZZZ0400\\n-M0080/M0228 /ZONA MR...   \n",
       "76899  Иркутск  (SHR-W086773\\n-ZZZZ0100\\n-S0082/S0102 /ZONA MR...   \n",
       "76900  Иркутск  (SHR-RF16257\\n-ZZZZ0400\\n-M0050/M0080 /ZONA MR...   \n",
       "76901  Иркутск  (SHR-ZZZZZ\\n-ZZZZ0300\\n-M0042/M0052 /ZONA R5,5...   \n",
       "\n",
       "                                                     DEP  \\\n",
       "0      -TITLE IDEP\\n-SID 7772282638\\n-ADD 250114\\n-AT...   \n",
       "1      -TITLE IDEP\\n-SID 7772290727\\n-ADD 250120\\n-AT...   \n",
       "2      -TITLE IDEP\\n-SID 7772299367\\n-ADD 250124\\n-AT...   \n",
       "3      -TITLE IDEP\\n-SID 7772300717\\n-ADD 250127\\n-AT...   \n",
       "4      -TITLE IDEP\\n-SID 7772305290\\n-ADD 250126\\n-AT...   \n",
       "...                                                  ...   \n",
       "76897  -TITLE IDEP\\n-SID 7772706377\\n-ADD 250702\\n-AT...   \n",
       "76898  -TITLE IDEP\\n-SID 7772730681\\n-ADD 250713\\n-AT...   \n",
       "76899  -TITLE IDEP\\n-SID 7772749748\\n-ADD 250715\\n-AT...   \n",
       "76900  -TITLE IDEP\\n-SID 7772750876\\n-ADD 250716\\n-AT...   \n",
       "76901  -TITLE IDEP\\n-SID 7772754829\\n-ADD 250716\\n-AT...   \n",
       "\n",
       "                                                     ARR  \n",
       "0      -TITLE IARR\\n-SID 7772282638\\n-ADA 250114\\n-AT...  \n",
       "1      -TITLE IARR\\n-SID 7772290727\\n-ADA 250120\\n-AT...  \n",
       "2      -TITLE IARR\\n-SID 7772299367\\n-ADA 250124\\n-AT...  \n",
       "3      -TITLE IARR\\n-SID 7772300717\\n-ADA 250127\\n-AT...  \n",
       "4      -TITLE IARR\\n-SID 7772305290\\n-ADA 250126\\n-AT...  \n",
       "...                                                  ...  \n",
       "76897  -TITLE IARR\\n-SID 7772706377\\n-ADA 250702\\n-AT...  \n",
       "76898  -TITLE IARR\\n-SID 7772730681\\n-ADA 250713\\n-AT...  \n",
       "76899  -TITLE IARR\\n-SID 7772749748\\n-ADA 250715\\n-AT...  \n",
       "76900  -TITLE IARR\\n-SID 7772750876\\n-ADA 250716\\n-AT...  \n",
       "76901                                                NaN  \n",
       "\n",
       "[76902 rows x 4 columns]"
      ]
     },
     "execution_count": 104,
     "metadata": {},
     "output_type": "execute_result"
    }
   ],
   "source": [
    "df_2025"
   ]
  },
  {
   "cell_type": "markdown",
   "id": "5e4478a8",
   "metadata": {},
   "source": [
    "Конец моей части"
   ]
  },
  {
   "cell_type": "code",
   "execution_count": 83,
   "id": "0f8cba97",
   "metadata": {},
   "outputs": [
    {
     "data": {
      "text/html": [
       "<div>\n",
       "<style scoped>\n",
       "    .dataframe tbody tr th:only-of-type {\n",
       "        vertical-align: middle;\n",
       "    }\n",
       "\n",
       "    .dataframe tbody tr th {\n",
       "        vertical-align: top;\n",
       "    }\n",
       "\n",
       "    .dataframe thead th {\n",
       "        text-align: right;\n",
       "    }\n",
       "</style>\n",
       "<table border=\"1\" class=\"dataframe\">\n",
       "  <thead>\n",
       "    <tr style=\"text-align: right;\">\n",
       "      <th></th>\n",
       "      <th>Дата полёта</th>\n",
       "      <th>Сообщение SHR</th>\n",
       "      <th>Сообщение DEP</th>\n",
       "      <th>Сообщение ARR</th>\n",
       "    </tr>\n",
       "  </thead>\n",
       "  <tbody>\n",
       "    <tr>\n",
       "      <th>0</th>\n",
       "      <td>2024-01-01</td>\n",
       "      <td>(SHR-ZZZZZ \\n-ZZZZ0900 \\n-M0016/M0026 /ZONA R0...</td>\n",
       "      <td>(DEP-ZZZZZ-ZZZZ0900-ZZZZ\\n-REG/07C4935 DOF/240...</td>\n",
       "      <td>(ARR-ZZZZZ-ZZZZ0900-ZZZZ1515\\n-REG/07C4935 DOF...</td>\n",
       "    </tr>\n",
       "    <tr>\n",
       "      <th>1</th>\n",
       "      <td>2024-01-01</td>\n",
       "      <td>(SHR-ZZZZZ\\n-ZZZZ0900\\n-M0000/M0029 /ZONA MR20...</td>\n",
       "      <td>(DEP-ZZZZZ-ZZZZ0900-ZZZZ\\n-REG/ZZZZZ DOF/24010...</td>\n",
       "      <td>(ARR-ZZZZZ-ZZZZ0900-ZZZZ1213\\n-REG/ZZZZZ DOF/2...</td>\n",
       "    </tr>\n",
       "    <tr>\n",
       "      <th>2</th>\n",
       "      <td>2024-01-01</td>\n",
       "      <td>(SHR-ZZZZZ\\n-ZZZZ1000\\n-M0000/M0039 /ZONA MR32...</td>\n",
       "      <td>(DEP-ZZZZZ-ZZZZ1000-ZZZZ\\n-REG/ZZZZZ DOF/24010...</td>\n",
       "      <td>(ARR-ZZZZZ-ZZZZ1000-ZZZZ1137\\n-REG/ZZZZZ DOF/2...</td>\n",
       "    </tr>\n",
       "    <tr>\n",
       "      <th>3</th>\n",
       "      <td>2024-01-02</td>\n",
       "      <td>(SHR-ZZZZZ\\n-ZZZZ0600\\n-M0000/M0770 /ZONA MR18...</td>\n",
       "      <td>(DEP-ZZZZZ-ZZZZ0614-ZZZZ\\n-REG/ZZZZZ DOF/24010...</td>\n",
       "      <td>(ARR-ZZZZZ-ZZZZ0600-ZZZZ1231\\n-REG/ZZZZZ DOF/2...</td>\n",
       "    </tr>\n",
       "    <tr>\n",
       "      <th>4</th>\n",
       "      <td>2024-01-02</td>\n",
       "      <td>(SHR-ZZZZZ\\n-ZZZZ0600\\n-M0000/M0025 /MR15/\\n-Z...</td>\n",
       "      <td>(DEP-ZZZZZ-ZZZZ0631-ZZZZ\\n-REG/ZZZZZ DOF/24010...</td>\n",
       "      <td>(ARR-ZZZZZ-ZZZZ0600-ZZZZ0914\\n-REG/ZZZZZ DOF/2...</td>\n",
       "    </tr>\n",
       "  </tbody>\n",
       "</table>\n",
       "</div>"
      ],
      "text/plain": [
       "  Дата полёта                                      Сообщение SHR  \\\n",
       "0  2024-01-01  (SHR-ZZZZZ \\n-ZZZZ0900 \\n-M0016/M0026 /ZONA R0...   \n",
       "1  2024-01-01  (SHR-ZZZZZ\\n-ZZZZ0900\\n-M0000/M0029 /ZONA MR20...   \n",
       "2  2024-01-01  (SHR-ZZZZZ\\n-ZZZZ1000\\n-M0000/M0039 /ZONA MR32...   \n",
       "3  2024-01-02  (SHR-ZZZZZ\\n-ZZZZ0600\\n-M0000/M0770 /ZONA MR18...   \n",
       "4  2024-01-02  (SHR-ZZZZZ\\n-ZZZZ0600\\n-M0000/M0025 /MR15/\\n-Z...   \n",
       "\n",
       "                                       Сообщение DEP  \\\n",
       "0  (DEP-ZZZZZ-ZZZZ0900-ZZZZ\\n-REG/07C4935 DOF/240...   \n",
       "1  (DEP-ZZZZZ-ZZZZ0900-ZZZZ\\n-REG/ZZZZZ DOF/24010...   \n",
       "2  (DEP-ZZZZZ-ZZZZ1000-ZZZZ\\n-REG/ZZZZZ DOF/24010...   \n",
       "3  (DEP-ZZZZZ-ZZZZ0614-ZZZZ\\n-REG/ZZZZZ DOF/24010...   \n",
       "4  (DEP-ZZZZZ-ZZZZ0631-ZZZZ\\n-REG/ZZZZZ DOF/24010...   \n",
       "\n",
       "                                       Сообщение ARR  \n",
       "0  (ARR-ZZZZZ-ZZZZ0900-ZZZZ1515\\n-REG/07C4935 DOF...  \n",
       "1  (ARR-ZZZZZ-ZZZZ0900-ZZZZ1213\\n-REG/ZZZZZ DOF/2...  \n",
       "2  (ARR-ZZZZZ-ZZZZ1000-ZZZZ1137\\n-REG/ZZZZZ DOF/2...  \n",
       "3  (ARR-ZZZZZ-ZZZZ0600-ZZZZ1231\\n-REG/ZZZZZ DOF/2...  \n",
       "4  (ARR-ZZZZZ-ZZZZ0600-ZZZZ0914\\n-REG/ZZZZZ DOF/2...  "
      ]
     },
     "execution_count": 83,
     "metadata": {},
     "output_type": "execute_result"
    }
   ],
   "source": [
    "df_2024 = pd.read_excel(\"../datasets/2024.xlsx\", header=1)\n",
    "df_2024.head()"
   ]
  },
  {
   "cell_type": "code",
   "execution_count": 84,
   "id": "437b52e6",
   "metadata": {},
   "outputs": [
    {
     "data": {
      "text/html": [
       "<div>\n",
       "<style scoped>\n",
       "    .dataframe tbody tr th:only-of-type {\n",
       "        vertical-align: middle;\n",
       "    }\n",
       "\n",
       "    .dataframe tbody tr th {\n",
       "        vertical-align: top;\n",
       "    }\n",
       "\n",
       "    .dataframe thead th {\n",
       "        text-align: right;\n",
       "    }\n",
       "</style>\n",
       "<table border=\"1\" class=\"dataframe\">\n",
       "  <thead>\n",
       "    <tr style=\"text-align: right;\">\n",
       "      <th></th>\n",
       "      <th>Центр ЕС ОрВД</th>\n",
       "      <th>SHR</th>\n",
       "      <th>DEP</th>\n",
       "      <th>ARR</th>\n",
       "    </tr>\n",
       "  </thead>\n",
       "  <tbody>\n",
       "    <tr>\n",
       "      <th>0</th>\n",
       "      <td>Санкт-Петербургский</td>\n",
       "      <td>(SHR-ZZZZZ\\n-ZZZZ0705\\n-K0300M3000\\n-DEP/5957N...</td>\n",
       "      <td>-TITLE IDEP\\n-SID 7772187998\\n-ADD 250201\\n-AT...</td>\n",
       "      <td>NaN</td>\n",
       "    </tr>\n",
       "    <tr>\n",
       "      <th>1</th>\n",
       "      <td>Ростовский</td>\n",
       "      <td>(SHR-00725\\n-ZZZZ0600\\n-M0000/M0005 /ZONA R0,5...</td>\n",
       "      <td>-TITLE IDEP\\n-SID 7772251137\\n-ADD 250124\\n-AT...</td>\n",
       "      <td>-TITLE IARR\\n-SID 7772251137\\n-ADA 250124\\n-AT...</td>\n",
       "    </tr>\n",
       "    <tr>\n",
       "      <th>2</th>\n",
       "      <td>Новосибирский</td>\n",
       "      <td>(SHR-RF37362\\n-ZZZZ0400\\n-M0000/M0080 /ZONA R0...</td>\n",
       "      <td>-TITLE IDEP\\n-SID 7772251311\\n-ADD 250123\\n-AT...</td>\n",
       "      <td>-TITLE IARR\\n-SID 7772251311\\n-ADA 250123\\n-AT...</td>\n",
       "    </tr>\n",
       "    <tr>\n",
       "      <th>3</th>\n",
       "      <td>Екатеринбургский</td>\n",
       "      <td>(SHR-0938G\\n-ZZZZ1000\\n-M0000/M0005 /ZONA 5646...</td>\n",
       "      <td>-TITLE IDEP\\n-SID 7772251691\\n-ADD 250111\\n-AT...</td>\n",
       "      <td>-TITLE IARR\\n-SID 7772251691\\n-ADA 250111\\n-AT...</td>\n",
       "    </tr>\n",
       "    <tr>\n",
       "      <th>4</th>\n",
       "      <td>Московский</td>\n",
       "      <td>(SHR-ZZZZZ\\n-ZZZZ1900\\n-M0020/M0025 /ZONA KO02...</td>\n",
       "      <td>-TITLE IDEP\\n-SID 7772260026\\n-ADD 250108\\n-AT...</td>\n",
       "      <td>-TITLE IARR\\n-SID 7772260026\\n-ADA 250108\\n-AT...</td>\n",
       "    </tr>\n",
       "  </tbody>\n",
       "</table>\n",
       "</div>"
      ],
      "text/plain": [
       "         Центр ЕС ОрВД                                                SHR  \\\n",
       "0  Санкт-Петербургский  (SHR-ZZZZZ\\n-ZZZZ0705\\n-K0300M3000\\n-DEP/5957N...   \n",
       "1           Ростовский  (SHR-00725\\n-ZZZZ0600\\n-M0000/M0005 /ZONA R0,5...   \n",
       "2        Новосибирский  (SHR-RF37362\\n-ZZZZ0400\\n-M0000/M0080 /ZONA R0...   \n",
       "3     Екатеринбургский  (SHR-0938G\\n-ZZZZ1000\\n-M0000/M0005 /ZONA 5646...   \n",
       "4           Московский  (SHR-ZZZZZ\\n-ZZZZ1900\\n-M0020/M0025 /ZONA KO02...   \n",
       "\n",
       "                                                 DEP  \\\n",
       "0  -TITLE IDEP\\n-SID 7772187998\\n-ADD 250201\\n-AT...   \n",
       "1  -TITLE IDEP\\n-SID 7772251137\\n-ADD 250124\\n-AT...   \n",
       "2  -TITLE IDEP\\n-SID 7772251311\\n-ADD 250123\\n-AT...   \n",
       "3  -TITLE IDEP\\n-SID 7772251691\\n-ADD 250111\\n-AT...   \n",
       "4  -TITLE IDEP\\n-SID 7772260026\\n-ADD 250108\\n-AT...   \n",
       "\n",
       "                                                 ARR  \n",
       "0                                                NaN  \n",
       "1  -TITLE IARR\\n-SID 7772251137\\n-ADA 250124\\n-AT...  \n",
       "2  -TITLE IARR\\n-SID 7772251311\\n-ADA 250123\\n-AT...  \n",
       "3  -TITLE IARR\\n-SID 7772251691\\n-ADA 250111\\n-AT...  \n",
       "4  -TITLE IARR\\n-SID 7772260026\\n-ADA 250108\\n-AT...  "
      ]
     },
     "execution_count": 84,
     "metadata": {},
     "output_type": "execute_result"
    }
   ],
   "source": [
    "df_2025 = pd.read_excel(\"../datasets/2025.xlsx\")\n",
    "df_2025.head()"
   ]
  },
  {
   "cell_type": "code",
   "execution_count": 85,
   "id": "6d069c27",
   "metadata": {},
   "outputs": [],
   "source": [
    "df_2024[\"Центр ЕС ОрВД\"] = None"
   ]
  },
  {
   "cell_type": "code",
   "execution_count": 86,
   "id": "31dc500c",
   "metadata": {},
   "outputs": [],
   "source": [
    "df_2024.rename(\n",
    "    columns={\"Сообщение SHR\": \"SHR\", \"Сообщение DEP\": \"DEP\", \"Сообщение ARR\": \"ARR\"},\n",
    "    inplace=True,\n",
    ")"
   ]
  },
  {
   "cell_type": "code",
   "execution_count": 87,
   "id": "f68254f8",
   "metadata": {},
   "outputs": [
    {
     "data": {
      "text/plain": [
       "(Index(['Дата полёта', 'SHR', 'DEP', 'ARR', 'Центр ЕС ОрВД'], dtype='object'),\n",
       " Index(['Центр ЕС ОрВД', 'SHR', 'DEP', 'ARR'], dtype='object'))"
      ]
     },
     "execution_count": 87,
     "metadata": {},
     "output_type": "execute_result"
    }
   ],
   "source": [
    "df_2024.columns, df_2025.columns"
   ]
  },
  {
   "cell_type": "code",
   "execution_count": 88,
   "id": "b3836fd7",
   "metadata": {},
   "outputs": [
    {
     "data": {
      "text/html": [
       "<div>\n",
       "<style scoped>\n",
       "    .dataframe tbody tr th:only-of-type {\n",
       "        vertical-align: middle;\n",
       "    }\n",
       "\n",
       "    .dataframe tbody tr th {\n",
       "        vertical-align: top;\n",
       "    }\n",
       "\n",
       "    .dataframe thead th {\n",
       "        text-align: right;\n",
       "    }\n",
       "</style>\n",
       "<table border=\"1\" class=\"dataframe\">\n",
       "  <thead>\n",
       "    <tr style=\"text-align: right;\">\n",
       "      <th></th>\n",
       "      <th>center</th>\n",
       "      <th>SHR</th>\n",
       "      <th>DEP</th>\n",
       "      <th>ARR</th>\n",
       "    </tr>\n",
       "  </thead>\n",
       "  <tbody>\n",
       "    <tr>\n",
       "      <th>97983</th>\n",
       "      <td>Самарский</td>\n",
       "      <td>(SHR-ZZZZZ\\n-ZZZZ1500\\n-M0000/M0001 /ZONA R3,6...</td>\n",
       "      <td>-TITLE IDEP\\n-SID 7772812786\\n-ADD 250731\\n-AT...</td>\n",
       "      <td>-TITLE IARR\\n-SID 7772812786\\n-ADA 250801\\n-AT...</td>\n",
       "    </tr>\n",
       "    <tr>\n",
       "      <th>97984</th>\n",
       "      <td>Московский</td>\n",
       "      <td>(SHR-RA2440G\\n-ZZZZ1600\\n-M0000/M0045 /ZONA 56...</td>\n",
       "      <td>-TITLE IDEP\\n-SID 7772812976\\n-ADD 250731\\n-AT...</td>\n",
       "      <td>-TITLE IARR\\n-SID 7772812976\\n-ADA 250731\\n-AT...</td>\n",
       "    </tr>\n",
       "    <tr>\n",
       "      <th>97985</th>\n",
       "      <td>Московский</td>\n",
       "      <td>(SHR-RA2886G\\n-ZZZZ1630\\n-M0000/M0150 /ZONA 56...</td>\n",
       "      <td>-TITLE IDEP\\n-SID 7772813060\\n-ADD 250731\\n-AT...</td>\n",
       "      <td>-TITLE IARR\\n-SID 7772813060\\n-ADA 250731\\n-AT...</td>\n",
       "    </tr>\n",
       "    <tr>\n",
       "      <th>97986</th>\n",
       "      <td>Санкт-Петербургский</td>\n",
       "      <td>(SHR-ZZZZZ\\n-ZZZZ1645\\n-M0000/M0040 /ZONA R2,5...</td>\n",
       "      <td>-TITLE IDEP\\n-SID 7772813139\\n-ADD 250731\\n-AT...</td>\n",
       "      <td>-TITLE IARR\\n-SID 7772813139\\n-ADA 250731\\n-AT...</td>\n",
       "    </tr>\n",
       "    <tr>\n",
       "      <th>97987</th>\n",
       "      <td>Новосибирский</td>\n",
       "      <td>(SHR-RA3160G\\n-ZZZZ2215\\n-M0005/M0180 /ZONA 56...</td>\n",
       "      <td>-TITLE IDEP\\n-SID 7772813475\\n-ADD 250731\\n-AT...</td>\n",
       "      <td>-TITLE IARR\\n-SID 7772813475\\n-ADA 250801\\n-AT...</td>\n",
       "    </tr>\n",
       "  </tbody>\n",
       "</table>\n",
       "</div>"
      ],
      "text/plain": [
       "                    center                                                SHR  \\\n",
       "97983            Самарский  (SHR-ZZZZZ\\n-ZZZZ1500\\n-M0000/M0001 /ZONA R3,6...   \n",
       "97984           Московский  (SHR-RA2440G\\n-ZZZZ1600\\n-M0000/M0045 /ZONA 56...   \n",
       "97985           Московский  (SHR-RA2886G\\n-ZZZZ1630\\n-M0000/M0150 /ZONA 56...   \n",
       "97986  Санкт-Петербургский  (SHR-ZZZZZ\\n-ZZZZ1645\\n-M0000/M0040 /ZONA R2,5...   \n",
       "97987        Новосибирский  (SHR-RA3160G\\n-ZZZZ2215\\n-M0005/M0180 /ZONA 56...   \n",
       "\n",
       "                                                     DEP  \\\n",
       "97983  -TITLE IDEP\\n-SID 7772812786\\n-ADD 250731\\n-AT...   \n",
       "97984  -TITLE IDEP\\n-SID 7772812976\\n-ADD 250731\\n-AT...   \n",
       "97985  -TITLE IDEP\\n-SID 7772813060\\n-ADD 250731\\n-AT...   \n",
       "97986  -TITLE IDEP\\n-SID 7772813139\\n-ADD 250731\\n-AT...   \n",
       "97987  -TITLE IDEP\\n-SID 7772813475\\n-ADD 250731\\n-AT...   \n",
       "\n",
       "                                                     ARR  \n",
       "97983  -TITLE IARR\\n-SID 7772812786\\n-ADA 250801\\n-AT...  \n",
       "97984  -TITLE IARR\\n-SID 7772812976\\n-ADA 250731\\n-AT...  \n",
       "97985  -TITLE IARR\\n-SID 7772813060\\n-ADA 250731\\n-AT...  \n",
       "97986  -TITLE IARR\\n-SID 7772813139\\n-ADA 250731\\n-AT...  \n",
       "97987  -TITLE IARR\\n-SID 7772813475\\n-ADA 250801\\n-AT...  "
      ]
     },
     "execution_count": 88,
     "metadata": {},
     "output_type": "execute_result"
    }
   ],
   "source": [
    "df_combined = pd.concat(\n",
    "    [\n",
    "        df_2024[[\"Центр ЕС ОрВД\", \"SHR\", \"DEP\", \"ARR\"]],\n",
    "        df_2025[[\"Центр ЕС ОрВД\", \"SHR\", \"DEP\", \"ARR\"]],\n",
    "    ],\n",
    "    ignore_index=True,\n",
    ")\n",
    "df_combined.rename(columns={\"Центр ЕС ОрВД\": \"center\"}, inplace=True)\n",
    "df_combined.tail()"
   ]
  },
  {
   "cell_type": "code",
   "execution_count": 89,
   "id": "b04c7885",
   "metadata": {},
   "outputs": [
    {
     "name": "stdout",
     "output_type": "stream",
     "text": [
      "<class 'pandas.core.frame.DataFrame'>\n",
      "RangeIndex: 97988 entries, 0 to 97987\n",
      "Data columns (total 4 columns):\n",
      " #   Column  Non-Null Count  Dtype \n",
      "---  ------  --------------  ----- \n",
      " 0   center  76902 non-null  object\n",
      " 1   SHR     97975 non-null  object\n",
      " 2   DEP     95823 non-null  object\n",
      " 3   ARR     95324 non-null  object\n",
      "dtypes: object(4)\n",
      "memory usage: 3.0+ MB\n"
     ]
    }
   ],
   "source": [
    "df_combined.info()"
   ]
  },
  {
   "cell_type": "code",
   "execution_count": 90,
   "id": "4c7dc061",
   "metadata": {},
   "outputs": [
    {
     "data": {
      "text/plain": [
       "(97988, 4)"
      ]
     },
     "execution_count": 90,
     "metadata": {},
     "output_type": "execute_result"
    }
   ],
   "source": [
    "df_combined.shape"
   ]
  },
  {
   "cell_type": "code",
   "execution_count": 91,
   "id": "659137df",
   "metadata": {},
   "outputs": [
    {
     "data": {
      "text/plain": [
       "center    21086\n",
       "SHR          13\n",
       "DEP        2165\n",
       "ARR        2664\n",
       "dtype: int64"
      ]
     },
     "execution_count": 91,
     "metadata": {},
     "output_type": "execute_result"
    }
   ],
   "source": [
    "df_combined.isna().sum()"
   ]
  },
  {
   "cell_type": "markdown",
   "id": "ae3260b1",
   "metadata": {},
   "source": [
    "<span style=\"color:red\"><b>>>>>>>> remote</b></span>"
   ]
  },
  {
   "cell_type": "code",
   "execution_count": null,
   "id": "8d685eb4",
   "metadata": {},
   "outputs": [],
   "source": [
    "# id полета\n",
    "df_combined[\"flight_id\"] = df_combined[\"SHR\"].str.extract(r\"SID/(\\d+)\")\n",
    "df_combined.head()"
   ]
  },
  {
   "cell_type": "code",
   "execution_count": null,
   "id": "c94d838a",
   "metadata": {},
   "outputs": [],
   "source": [
    "# тип БПЛА\n",
    "df_combined[\"uav_type\"] = df_combined[\"SHR\"].str.extract(r\"TYP/([^\\s)]+)\")\n",
    "# координаты взлета\n",
    "df_combined[\"dep_coord\"] = df_combined[\"SHR\"].str.extract(r\"DEP/([0-9]+[NS][0-9]+[EW])\")\n",
    "# координаты посадки\n",
    "df_combined[\"dest_coord\"] = df_combined[\"SHR\"].str.extract(\n",
    "    r\"DEST/([0-9]+[NS][0-9]+[EW])\"\n",
    ")\n",
    "# DDMM(SS)NDDDMM(SS)E - формат\n",
    "df_combined.head()"
   ]
  },
  {
   "cell_type": "code",
   "execution_count": null,
   "id": "baab91c7",
   "metadata": {},
   "outputs": [],
   "source": [
    "# плановая дата полета, формат - YYMMDD\n",
    "df_combined[\"dof\"] = df_combined[\"SHR\"].str.extract(r\"DOF/(\\d{6})\")\n",
    "df_combined.head()"
   ]
  },
  {
   "cell_type": "code",
   "execution_count": null,
   "id": "7024664b",
   "metadata": {},
   "outputs": [],
   "source": [
    "# плановое время полета по записям за 2024 (запись вида ARR - откуда и во сколько,куда и во сколько) формат - HHMM\n",
    "times = df_combined[\"ARR\"].str.extract(\n",
    "    r\"ARR-[A-Z0-9]+-[A-Z0-9]{4}(?P<dep_hhmm>\\d{4})-[A-Z0-9]{4}(?P<arr_hhmm>\\d{4})\"\n",
    ")\n",
    "df_combined[\"dep_time_plan\"] = times[\"dep_hhmm\"]\n",
    "df_combined[\"arr_time_plan\"] = times[\"arr_hhmm\"]\n",
    "df_combined.head()"
   ]
  },
  {
   "cell_type": "code",
   "execution_count": null,
   "id": "7eadabf6",
   "metadata": {},
   "outputs": [],
   "source": [
    "# по записям на 2025 - фактические даты и времени (поиск по DEP/ARR)\n",
    "df_combined[\"dep_time_actual\"] = None\n",
    "df_combined[\"arr_time_actual\"] = None\n",
    "df_combined[\"dep_date_actual\"] = None\n",
    "df_combined[\"arr_date_actual\"] = None\n",
    "\n",
    "atd_series = df_2025[\"DEP\"].astype(str).str.extract(r\"ATD (\\d{4})\")[0]\n",
    "ata_series = df_2025[\"ARR\"].astype(str).str.extract(r\"ATA (\\d{4})\")[0]\n",
    "add_series = df_2025[\"DEP\"].astype(str).str.extract(r\"ADD (\\d{6})\")[0]\n",
    "ada_series = df_2025[\"ARR\"].astype(str).str.extract(r\"ADA (\\d{6})\")[0]"
   ]
  },
  {
   "cell_type": "markdown",
   "id": "7eb0819b",
   "metadata": {},
   "source": [
    "- ATD HHMM — Actual Time of Departure;\n",
    "\n",
    "- ATA HHMM — Actual Time of Arrival;\n",
    "\n",
    "- ADD YYMMDD — Actual Departure Date;\n",
    "\n",
    "- ADA YYMMDD — Actual Arrival Date.\n",
    "\n",
    "offset_2025 — чтобы знать, метка для обозначения того, с какого индекса идут строки за 2025 год"
   ]
  },
  {
   "cell_type": "code",
   "execution_count": null,
   "id": "9ad674a9",
   "metadata": {},
   "outputs": [],
   "source": [
    "# в случае отсутсвия ADD (фактическая дата вылета) записываем плановую дату (DOF)\n",
    "# запись фактич даты и времени в датафрейм\n",
    "\n",
    "offset_2025 = len(df_2024)\n",
    "\n",
    "for idx in range(len(df_2025)):\n",
    "    combined_idx = offset_2025 + idx\n",
    "    dep_time = atd_series.iloc[idx]\n",
    "    arr_time = ata_series.iloc[idx]\n",
    "    dep_date = add_series.iloc[idx]\n",
    "    arr_date = ada_series.iloc[idx]\n",
    "    if pd.isna(dep_date):\n",
    "        dep_date = df_combined.loc[combined_idx, \"dof\"]\n",
    "    if pd.notna(dep_date):\n",
    "        df_combined.at[combined_idx, \"dep_date_actual\"] = dep_date\n",
    "    if pd.notna(dep_time):\n",
    "        df_combined.at[combined_idx, \"dep_time_actual\"] = dep_time\n",
    "    if pd.notna(arr_date):\n",
    "        df_combined.at[combined_idx, \"arr_date_actual\"] = arr_date\n",
    "    if pd.notna(arr_time):\n",
    "        df_combined.at[combined_idx, \"arr_time_actual\"] = arr_time"
   ]
  },
  {
   "cell_type": "code",
   "execution_count": null,
   "id": "01acc874",
   "metadata": {},
   "outputs": [],
   "source": [
    "df_combined.head()"
   ]
  },
  {
   "cell_type": "code",
   "execution_count": null,
   "id": "dbc4447e",
   "metadata": {},
   "outputs": [],
   "source": [
    "df_combined.tail()"
   ]
  },
  {
   "cell_type": "code",
   "execution_count": null,
   "id": "afc856aa",
   "metadata": {},
   "outputs": [],
   "source": [
    "# склеиваем даты вида YYMMDD и HHMM в pandas.Timestamp\n",
    "def combine_date_time(date_str, time_str):\n",
    "    if pd.isna(date_str) or pd.isna(time_str):\n",
    "        return pd.NaT\n",
    "    try:\n",
    "        return pd.to_datetime(date_str + time_str, format=\"%y%m%d%H%M\")\n",
    "    except Exception:\n",
    "        return pd.NaT"
   ]
  },
  {
   "cell_type": "code",
   "execution_count": null,
   "id": "482c557b",
   "metadata": {},
   "outputs": [],
   "source": [
    "# проходимся по рядам (фактич дата и время или плановые)\n",
    "# вылет\n",
    "df_combined[\"dep_datetime\"] = df_combined.apply(\n",
    "    lambda row: combine_date_time(\n",
    "        row[\"dep_date_actual\"] if pd.notna(row[\"dep_date_actual\"]) else row[\"dof\"],\n",
    "        (\n",
    "            row[\"dep_time_actual\"]\n",
    "            if pd.notna(row[\"dep_time_actual\"])\n",
    "            else row[\"dep_time_plan\"]\n",
    "        ),\n",
    "    ),\n",
    "    axis=1,\n",
    ")\n",
    "# прилет\n",
    "df_combined[\"arr_datetime\"] = df_combined.apply(\n",
    "    lambda row: combine_date_time(\n",
    "        row[\"arr_date_actual\"] if pd.notna(row[\"arr_date_actual\"]) else row[\"dof\"],\n",
    "        (\n",
    "            row[\"arr_time_actual\"]\n",
    "            if pd.notna(row[\"arr_time_actual\"])\n",
    "            else row[\"arr_time_plan\"]\n",
    "        ),\n",
    "    ),\n",
    "    axis=1,\n",
    ")"
   ]
  },
  {
   "cell_type": "code",
   "execution_count": null,
   "id": "3ead76db",
   "metadata": {},
   "outputs": [],
   "source": [
    "# обработка случая когда прилет произошел раньше по времени, чем вылет (добавляем сутки к прилету)\n",
    "# ситуация разных часовых поясов\n",
    "mask = (\n",
    "    df_combined[\"dep_datetime\"].notna()\n",
    "    & df_combined[\"arr_datetime\"].notna()\n",
    "    & (df_combined[\"arr_datetime\"] < df_combined[\"dep_datetime\"])\n",
    ")\n",
    "df_combined.loc[mask, \"arr_datetime\"] += pd.Timedelta(days=1)"
   ]
  },
  {
   "cell_type": "code",
   "execution_count": null,
   "id": "110874df",
   "metadata": {},
   "outputs": [],
   "source": [
    "# работа с длительностью полета\n",
    "df_combined[\"duration_min\"] = None\n",
    "mask_duration = (\n",
    "    df_combined[\"dep_datetime\"].notna() & df_combined[\"arr_datetime\"].notna()\n",
    ")\n",
    "df_combined.loc[mask_duration, \"duration_min\"] = (\n",
    "    df_combined.loc[mask_duration, \"arr_datetime\"]\n",
    "    - df_combined.loc[mask_duration, \"dep_datetime\"]\n",
    ").dt.total_seconds() / 60"
   ]
  },
  {
   "cell_type": "code",
   "execution_count": null,
   "id": "a435629f",
   "metadata": {},
   "outputs": [],
   "source": [
    "# перевод координат вида 554529N0382503E в градусы\n",
    "# нужна отдельная функция?\n",
    "# подаются строки вида: широта (DDMM или DDMMSS) + N/S, затем долгота (DDDMM или DDDMMSS) + E/W"
   ]
  },
  {
   "cell_type": "code",
   "execution_count": null,
   "id": "1ef1b3a6",
   "metadata": {},
   "outputs": [],
   "source": [
    "df_combined[\"dep_coord\"].head()"
   ]
  },
  {
   "cell_type": "code",
   "execution_count": null,
   "id": "580efc15",
   "metadata": {},
   "outputs": [],
   "source": [
    "import re"
   ]
  },
  {
   "cell_type": "code",
   "execution_count": null,
   "id": "f9c5079b",
   "metadata": {},
   "outputs": [],
   "source": [
    "def parse_coordinate(coord_str):\n",
    "    if not isinstance(coord_str, str) or coord_str.strip() == \"\":\n",
    "        return None, None\n",
    "    match = re.match(r\"^([0-9]+)([NS])([0-9]+)([EW])$\", coord_str.strip())\n",
    "    if not match:\n",
    "        return None, None\n",
    "    lat_digits, lat_hem, lon_digits, lon_hem = match.groups()\n",
    "    lat_deg = int(lat_digits[0:2])\n",
    "    if len(lat_digits) == 4:  # DDMM\n",
    "        lat_min = int(lat_digits[2:4])\n",
    "        lat_sec = 0\n",
    "    elif len(lat_digits) == 6:  # DDMMSS\n",
    "        lat_min = int(lat_digits[2:4])\n",
    "        lat_sec = int(lat_digits[4:6])\n",
    "    else:\n",
    "        lat_min = int(lat_digits[2:4]) if len(lat_digits) >= 4 else 0\n",
    "        lat_sec = int(lat_digits[4:6]) if len(lat_digits) >= 6 else 0\n",
    "    lat = lat_deg + lat_min / 60 + lat_sec / 3600\n",
    "    if lat_hem == \"S\":\n",
    "        lat = -lat\n",
    "    if len(lon_digits) == 5:  # DDDMM\n",
    "        lon_deg = int(lon_digits[0:3])\n",
    "        lon_min = int(lon_digits[3:5])\n",
    "        lon_sec = 0\n",
    "    elif len(lon_digits) == 7:  # DDDMMSS\n",
    "        lon_deg = int(lon_digits[0:3])\n",
    "        lon_min = int(lon_digits[3:5])\n",
    "        lon_sec = int(lon_digits[5:7])\n",
    "    else:\n",
    "        lon_deg = int(lon_digits[0:3]) if len(lon_digits) >= 3 else int(lon_digits)\n",
    "        lon_min = int(lon_digits[3:5]) if len(lon_digits) >= 5 else 0\n",
    "        lon_sec = int(lon_digits[5:7]) if len(lon_digits) >= 7 else 0\n",
    "    lon = lon_deg + lon_min / 60 + lon_sec / 3600\n",
    "    if lon_hem == \"W\":\n",
    "        lon = -lon\n",
    "    return lat, lon"
   ]
  },
  {
   "cell_type": "code",
   "execution_count": null,
   "id": "c8044023",
   "metadata": {},
   "outputs": [],
   "source": [
    "# преобразуем координаты\n",
    "# взлет\n",
    "df_combined[[\"takeoff_lat\", \"takeoff_lon\"]] = df_combined[\"dep_coord\"].apply(\n",
    "    lambda c: pd.Series(parse_coordinate(c))\n",
    ")\n",
    "# посадка\n",
    "df_combined[[\"landing_lat\", \"landing_lon\"]] = df_combined[\"dest_coord\"].apply(\n",
    "    lambda c: pd.Series(parse_coordinate(c))\n",
    ")"
   ]
  },
  {
   "cell_type": "code",
   "execution_count": null,
   "id": "b6d7084e",
   "metadata": {},
   "outputs": [],
   "source": [
    "df_combined.head()"
   ]
  },
  {
   "cell_type": "code",
   "execution_count": null,
   "id": "3e49e690",
   "metadata": {},
   "outputs": [],
   "source": [
    "# обаботка координат для таблицы 2025 года (ARR по ключу ADARRZ)\n",
    "missing_dest = df_combined[\"landing_lat\"].isna() & df_combined[\"ARR\"].notna()\n",
    "for idx in df_combined[missing_dest].index:\n",
    "    text = str(df_combined.at[idx, \"ARR\"])\n",
    "    match = re.search(r\"ADARRZ ([0-9]+[NS][0-9]+[EW])\", text)\n",
    "    if match:\n",
    "        lat_val, lon_val = parse_coordinate(match.group(1))\n",
    "        df_combined.at[idx, \"landing_lat\"] = lat_val\n",
    "        df_combined.at[idx, \"landing_lon\"] = lon_val"
   ]
  },
  {
   "cell_type": "code",
   "execution_count": null,
   "id": "92706e3b",
   "metadata": {},
   "outputs": [],
   "source": [
    "df_combined.head()"
   ]
  },
  {
   "cell_type": "code",
   "execution_count": null,
   "id": "baa64fbf",
   "metadata": {},
   "outputs": [],
   "source": [
    "df_final = df_combined.drop(\n",
    "    columns=[\n",
    "        \"SHR\",\n",
    "        \"DEP\",\n",
    "        \"ARR\",\n",
    "        \"dof\",\n",
    "        \"dep_coord\",\n",
    "        \"dest_coord\",\n",
    "        \"dep_time_plan\",\n",
    "        \"arr_time_plan\",\n",
    "        \"dep_time_actual\",\n",
    "        \"arr_time_actual\",\n",
    "        \"dep_date_actual\",\n",
    "        \"arr_date_actual\",\n",
    "    ]\n",
    ")\n",
    "df_final.reset_index(drop=True, inplace=True)"
   ]
  },
  {
   "cell_type": "code",
   "execution_count": null,
   "id": "2bd3f327",
   "metadata": {},
   "outputs": [],
   "source": [
    "df_final.head()"
   ]
  },
  {
   "cell_type": "code",
   "execution_count": null,
   "id": "f41cd6aa",
   "metadata": {},
   "outputs": [],
   "source": [
    "df_final.info()"
   ]
  },
  {
   "cell_type": "code",
   "execution_count": null,
   "id": "533293c8",
   "metadata": {},
   "outputs": [],
   "source": [
    "df_final.isna().sum()"
   ]
  },
  {
   "cell_type": "code",
   "execution_count": null,
   "id": "9c0711a8",
   "metadata": {},
   "outputs": [],
   "source": [
    "df_final.shape"
   ]
  },
  {
   "cell_type": "markdown",
   "id": "af502cda",
   "metadata": {},
   "source": [
    "- center — центр ЕС ОрВД (для 2024 — None);\n",
    "\n",
    "- flight_id — ID полёта;\n",
    "\n",
    "- uav_type — тип БПЛА;\n",
    "\n",
    "- dep_datetime — дата-время взлёта (datetime);\n",
    "\n",
    "- arr_datetime — дата-время посадки (datetime);\n",
    "\n",
    "- duration_min — длительность полёта в минутах (float);\n",
    "\n",
    "- takeoff_lat, takeoff_lon — координаты взлёта (градусы, десятич);\n",
    "\n",
    "- landing_lat, landing_lon — координаты посадки (градусы, десятич);"
   ]
  },
  {
   "cell_type": "markdown",
   "id": "9bbb0448",
   "metadata": {},
   "source": [
    "<span style=\"color:red\"><b><<<<<<< local</b></span>"
   ]
  },
  {
   "cell_type": "code",
   "execution_count": 130,
   "id": "56ce592a",
   "metadata": {},
   "outputs": [],
   "source": [
    "df_final.to_excel(\"../datasets/data.xlsx\")"
   ]
  },
  {
   "cell_type": "markdown",
   "id": "710f0efa",
   "metadata": {},
   "source": [
    "<span style=\"color:red\"><b>=======</b></span>"
   ]
  },
  {
   "cell_type": "markdown",
   "id": "ca8b3e4b",
   "metadata": {},
   "source": []
  },
  {
   "cell_type": "markdown",
   "id": "6a31d5d6",
   "metadata": {},
   "source": [
    "<span style=\"color:red\"><b>>>>>>>> remote</b></span>"
   ]
  }
 ],
 "metadata": {
  "kernelspec": {
   "display_name": "Python 3",
   "language": "python",
   "name": "python3"
  },
  "nbdime-conflicts": {
   "local_diff": [
    {
     "key": "language_info",
     "op": "add",
     "value": {
      "codemirror_mode": {
       "name": "ipython",
       "version": 3
      },
      "file_extension": ".py",
      "mimetype": "text/x-python",
      "name": "python",
      "nbconvert_exporter": "python",
      "pygments_lexer": "ipython3",
      "version": "3.12.0"
     }
    }
   ],
   "remote_diff": [
    {
     "key": "language_info",
     "op": "add",
     "value": {
      "codemirror_mode": {
       "name": "ipython",
       "version": 3
      },
      "file_extension": ".py",
      "mimetype": "text/x-python",
      "name": "python",
      "nbconvert_exporter": "python",
      "pygments_lexer": "ipython3",
      "version": "3.12.2"
     }
    }
   ]
  }
 },
 "nbformat": 4,
 "nbformat_minor": 5
}
